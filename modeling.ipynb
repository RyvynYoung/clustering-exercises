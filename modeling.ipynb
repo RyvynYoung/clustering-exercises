{
 "cells": [
  {
   "cell_type": "markdown",
   "metadata": {},
   "source": [
    "# Modeling Exercises"
   ]
  },
  {
   "cell_type": "markdown",
   "metadata": {},
   "source": [
    "## Clustering with the Iris Dataset\n",
    "\n",
    "Using this lesson as a guide, perform clustering on the iris dataset.\n",
    "\n",
    "Choose features other than the ones used in the lesson.\n",
    "\n",
    "Visualize the results of your clustering.\n",
    "\n",
    "Use the elbow method to visually select a good value for k.\n",
    "\n",
    "Repeat the clustering, this time with 3 different features.\n",
    "\n",
    "Use the techniques discussed in this lesson, as well as the insights gained from the exploration exercise to perform clustering on the mall customers dataset. Be sure to visualize your results!\n",
    "\n",
    "How does scaling impact the results of clustering?\n",
    "\n",
    "Compare k-means clustering results on scaled and unscaled data. You can show how the resulting clusters differ either with descriptive statistics or visually."
   ]
  },
  {
   "cell_type": "code",
   "execution_count": null,
   "metadata": {},
   "outputs": [],
   "source": [
    "import warnings\n",
    "warnings.filterwarnings(\"ignore\")\n",
    "\n",
    "import pandas as pd\n",
    "import numpy as np\n",
    "\n",
    "import matplotlib.pyplot as plt\n",
    "from matplotlib import cm\n",
    "import seaborn as sns\n",
    "\n",
    "from sklearn.cluster import KMeans\n",
    "\n",
    "import acquire\n",
    "import viz\n",
    "np.random.seed(4)\n",
    "\n",
    "iris = acquire.get_iris_data()"
   ]
  }
 ],
 "metadata": {
  "kernelspec": {
   "display_name": "Python 3",
   "language": "python",
   "name": "python3"
  },
  "language_info": {
   "codemirror_mode": {
    "name": "ipython",
    "version": 3
   },
   "file_extension": ".py",
   "mimetype": "text/x-python",
   "name": "python",
   "nbconvert_exporter": "python",
   "pygments_lexer": "ipython3",
   "version": "3.7.6"
  }
 },
 "nbformat": 4,
 "nbformat_minor": 4
}
