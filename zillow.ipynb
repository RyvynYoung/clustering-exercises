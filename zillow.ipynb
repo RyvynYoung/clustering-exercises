{
 "cells": [
  {
   "cell_type": "markdown",
   "metadata": {},
   "source": [
    "# Data Wrangling Exercises"
   ]
  },
  {
   "cell_type": "markdown",
   "metadata": {},
   "source": [
    "## Acquire (acquire.py)\n",
    "\n",
    "### Zillow\n",
    "\n",
    "For the following, iterate through the steps you would take to create functions: Write the code to do the following in a jupyter notebook, test it, convert to functions, then create the file to house those functions.\n",
    "\n",
    "You will have a zillow.ipynb file and a helper file for each section in the pipeline.\n",
    "\n",
    "**acquire & summarize**\n",
    "\n",
    "1. Acquire data from mySQL using the python module to connect and query. You will want to end with a single dataframe. Make sure to include: the logerror, all fields related to the properties that are available. You will end up using all the tables in the database.\n",
    "\n",
    "Be sure to do the correct join (inner, outer, etc.). We do not want to eliminate properties purely because they may have a null value for airconditioningtypeid.\n",
    "Only include properties with a transaction in 2017, and include only the last transaction for each properity (so no duplicate property ID's), along with zestimate error and date of transaction.\n",
    "Only include properties that include a latitude and longitude value.\n",
    "\n"
   ]
  },
  {
   "cell_type": "code",
   "execution_count": null,
   "metadata": {},
   "outputs": [],
   "source": [
    "import pandas as pd\n",
    "import acquire\n",
    "import prepare"
   ]
  },
  {
   "cell_type": "code",
   "execution_count": null,
   "metadata": {},
   "outputs": [],
   "source": [
    "df = acquire.get_zillow_cluster_data()"
   ]
  },
  {
   "cell_type": "markdown",
   "metadata": {},
   "source": [
    "**acquire & summarize**\n",
    "2. Summarize your data (summary stats, info, dtypes, shape, distributions, value_counts, etc.)"
   ]
  },
  {
   "cell_type": "code",
   "execution_count": null,
   "metadata": {},
   "outputs": [],
   "source": [
    "# before added filter for property use type = (77381, 70)\n",
    "df.shape"
   ]
  },
  {
   "cell_type": "code",
   "execution_count": null,
   "metadata": {},
   "outputs": [],
   "source": [
    "df.head()"
   ]
  },
  {
   "cell_type": "code",
   "execution_count": null,
   "metadata": {},
   "outputs": [],
   "source": [
    "df.dtypes"
   ]
  },
  {
   "cell_type": "code",
   "execution_count": null,
   "metadata": {},
   "outputs": [],
   "source": [
    "df.info()"
   ]
  },
  {
   "cell_type": "code",
   "execution_count": null,
   "metadata": {},
   "outputs": [],
   "source": [
    "df.describe().T"
   ]
  },
  {
   "cell_type": "markdown",
   "metadata": {},
   "source": [
    "**acquire & summarize**   \n",
    "3. Write a function that takes in a dataframe of observations and attributes and returns a dataframe where each row is an atttribute name, the first column is the number of rows with missing values for that attribute, and the second column is percent of total rows that have missing values for that attribute. Run the function and document takeaways from this on how you want to handle missing values. \n",
    "\n",
    "    |           |num_rows_missing |pct_rows_missing   \n",
    "    | parcelid|\t0|\t0.000000   \n",
    "    | airconditioningtypeid |\t29041 |\t0.535486   \n",
    "    | architecturalstyletypeid |\t54232 |\t0.999982   \n"
   ]
  },
  {
   "cell_type": "code",
   "execution_count": null,
   "metadata": {},
   "outputs": [],
   "source": [
    "num_rows_missing = df.isna().sum()\n",
    "num_rows_missing"
   ]
  },
  {
   "cell_type": "code",
   "execution_count": null,
   "metadata": {},
   "outputs": [],
   "source": [
    "dfmissing = pd.DataFrame(num_rows_missing, columns=['num_rows_missing'])\n",
    "\n",
    "dfmissing.head()"
   ]
  },
  {
   "cell_type": "code",
   "execution_count": null,
   "metadata": {},
   "outputs": [],
   "source": [
    "dfmissing['pct_rows_missing'] = dfmissing.num_rows_missing/df.shape[0]\n",
    "dfmissing.head()"
   ]
  },
  {
   "cell_type": "code",
   "execution_count": null,
   "metadata": {},
   "outputs": [],
   "source": [
    "def get_missing_rows(df):\n",
    "    '''\n",
    "    Write a function that takes in a dataframe of observations and attributes and returns a dataframe\n",
    "    where each row is an atttribute name, the first column is the number of rows with missing values \n",
    "    for that attribute, and the second column is percent of total rows that have missing values for that \n",
    "    attribute. Run the function and document takeaways from this on how you want to handle missing values\n",
    "    '''\n",
    "    # find the number of rows in each column that are missing values\n",
    "    num_rows_missing = df.isna().sum()\n",
    "    # create new df with just that column\n",
    "    dfrows = pd.DataFrame(num_rows_missing, columns=['num_rows_missing'])\n",
    "    # add a calculation of % missing to the new df\n",
    "    dfrows['pct_rows_missing'] = dfrows.num_rows_missing/df.shape[0]\n",
    "    # return the new df\n",
    "    return dfrows"
   ]
  },
  {
   "cell_type": "code",
   "execution_count": null,
   "metadata": {},
   "outputs": [],
   "source": [
    "zrows = get_missing_rows(df)\n",
    "zrows.head(35)"
   ]
  },
  {
   "cell_type": "code",
   "execution_count": null,
   "metadata": {},
   "outputs": [],
   "source": [
    "zrows.tail(35)"
   ]
  },
  {
   "cell_type": "markdown",
   "metadata": {},
   "source": [
    "****\n",
    "**take aways**\n",
    "1. could fireplace, garage, pool, hottub, deck be made to 0 or 1 then summed as \"plus_item\" column?\n",
    "    - this would assume null values do not have the feature, as opposed to feature is present but not noted\n",
    "2. drop features with 70% or more missing values to start\n",
    "****"
   ]
  },
  {
   "cell_type": "markdown",
   "metadata": {},
   "source": [
    "4. Write a function that takes in a dataframe and returns a dataframe with 3 columns: the number of columns missing, percent of columns missing, and number of rows with n columns missing. Run the function and document takeaways from this on how you want to handle missing values.\n",
    "\n",
    "num_cols_missing\tpct_cols_missing\tnum_rows   \n",
    "23\t38.333\t108   \n",
    "24\t40.000\t123   \n",
    "25\t41.667\t5280   "
   ]
  },
  {
   "cell_type": "code",
   "execution_count": null,
   "metadata": {},
   "outputs": [],
   "source": [
    "# rephrase of question:\n",
    "# for each observation how many columns are missing values?\n",
    "# what is the % of columns with missing values for that row?\n",
    "# group the rows with the same ansers to those 2 questions together"
   ]
  },
  {
   "cell_type": "code",
   "execution_count": null,
   "metadata": {},
   "outputs": [],
   "source": [
    "df.head()"
   ]
  },
  {
   "cell_type": "code",
   "execution_count": null,
   "metadata": {},
   "outputs": [],
   "source": [
    "# this will add a column that has a total number of columns that are blank for that row\n",
    "df['null_count'] = df.isna().sum(axis=1)\n",
    "null_count = df.null_count\n",
    "df.head()"
   ]
  },
  {
   "cell_type": "code",
   "execution_count": null,
   "metadata": {},
   "outputs": [],
   "source": [
    "# this calculates the percentage of null columns for that row\n",
    "df['pct_null'] = df.null_count/df.shape[1]\n",
    "pct_null = df.pct_null\n",
    "df.head()"
   ]
  },
  {
   "cell_type": "code",
   "execution_count": null,
   "metadata": {},
   "outputs": [],
   "source": [
    "# this gets a dataframe with just the 2 new columns\n",
    "dfcol = pd.DataFrame(null_count, columns=['null_count'])\n",
    "dfcol['pct_null'] = pct_null\n",
    "dfcol.head()"
   ]
  },
  {
   "cell_type": "code",
   "execution_count": null,
   "metadata": {},
   "outputs": [],
   "source": [
    "# this shows how many groups of rows have the same number of null columns\n",
    "dfcol.nunique()"
   ]
  },
  {
   "cell_type": "code",
   "execution_count": null,
   "metadata": {},
   "outputs": [],
   "source": [
    "# create a series that has the number of rows in each group\n",
    "num_rows_ingroup = dfcol.null_count.value_counts()\n",
    "# create a dataframe with the count of null_count and pct_null\n",
    "groups = dfcol.groupby(['null_count', 'pct_null']).count()"
   ]
  },
  {
   "cell_type": "code",
   "execution_count": null,
   "metadata": {},
   "outputs": [],
   "source": [
    "# create a df from the num_rows_ingroup, rename the columns, sort, and reset the index \n",
    "dfnum_rows = pd.DataFrame(num_rows_ingroup)\n",
    "dfnum_rows = dfnum_rows.reset_index()\n",
    "dfnum_rows = dfnum_rows.rename(columns={'index': 'num_null_col', 'null_count': 'num_rows_with_count'})\n",
    "dfnum_rows = dfnum_rows.sort_values('num_null_col')\n",
    "dfnum_rows = dfnum_rows.reset_index()"
   ]
  },
  {
   "cell_type": "code",
   "execution_count": null,
   "metadata": {},
   "outputs": [],
   "source": [
    "#visual check\n",
    "dfnum_rows"
   ]
  },
  {
   "cell_type": "code",
   "execution_count": null,
   "metadata": {},
   "outputs": [],
   "source": [
    "# reset the index on the groups df so that we can add the num_rows_with_count\n",
    "groups = groups.reset_index()"
   ]
  },
  {
   "cell_type": "code",
   "execution_count": null,
   "metadata": {},
   "outputs": [],
   "source": [
    "# visual check\n",
    "groups"
   ]
  },
  {
   "cell_type": "code",
   "execution_count": null,
   "metadata": {},
   "outputs": [],
   "source": [
    "# combine num_rows_with_count from dfnum_rows with groups\n",
    "groups['rows_with_count'] = dfnum_rows.num_rows_with_count"
   ]
  },
  {
   "cell_type": "code",
   "execution_count": null,
   "metadata": {},
   "outputs": [],
   "source": [
    "# visual check\n",
    "groups"
   ]
  },
  {
   "cell_type": "code",
   "execution_count": null,
   "metadata": {},
   "outputs": [],
   "source": [
    "# create a function that does the abocve and returns groups df\n",
    "def get_missing_cols(df):\n",
    "    # add calculation columns to original df\n",
    "    df['null_count'] = df.isna().sum(axis=1)\n",
    "    df['pct_null'] = df.null_count/df.shape[1]\n",
    "    \n",
    "    # create a dataframe with just the 2 new columns\n",
    "    dfcol = pd.DataFrame(null_count, columns=['null_count'])\n",
    "    dfcol['pct_null'] = df.pct_null\n",
    "    \n",
    "    # create a series that has the number of rows in each group\n",
    "    num_rows_ingroup = dfcol.null_count.value_counts()\n",
    "    \n",
    "    # create a dataframe with the count of null_count and pct_null\n",
    "    groups = dfcol.groupby(['null_count', 'pct_null']).count()\n",
    "    \n",
    "    # create a df from the num_rows_ingroup, rename the columns, sort, and reset the index \n",
    "    dfnum_rows = pd.DataFrame(num_rows_ingroup)\n",
    "    dfnum_rows = dfnum_rows.reset_index()\n",
    "    dfnum_rows = dfnum_rows.rename(columns={'index': 'num_null_col', 'null_count': 'num_rows_with_count'})\n",
    "    dfnum_rows = dfnum_rows.sort_values('num_null_col')\n",
    "    dfnum_rows = dfnum_rows.reset_index()\n",
    "    \n",
    "    # reset the index on the groups df so that we can add the num_rows_with_count\n",
    "    groups = groups.reset_index()\n",
    "    \n",
    "    # combine num_rows_with_count from dfnum_rows with groups\n",
    "    groups['rows_with_count'] = dfnum_rows.num_rows_with_count\n",
    "    return groups\n"
   ]
  },
  {
   "cell_type": "code",
   "execution_count": null,
   "metadata": {},
   "outputs": [],
   "source": [
    "zcols = get_missing_cols(df)\n",
    "zcols"
   ]
  },
  {
   "cell_type": "markdown",
   "metadata": {},
   "source": [
    "****\n",
    "**take aways**\n",
    "- most rows have 32-34 columns with missing values\n",
    "****"
   ]
  },
  {
   "cell_type": "markdown",
   "metadata": {},
   "source": [
    "## Prepare\n",
    "\n",
    "1. Remove any properties that are likely to be something other than single unit properties.    \n",
    "(e.g. no duplexes, no land/lot, ...). There are multiple ways to estimate that a property is a single unit, and there is not a single \"right\" answer. But for this exercise, do not purely filter by unitcnt as we did previously. Add some new logic that will reduce the number of properties that are falsely removed. You might want to use # bedrooms, square feet, unit type or the like to then identify those with unitcnt not defined.\n"
   ]
  },
  {
   "cell_type": "markdown",
   "metadata": {},
   "source": [
    "**This is deffinition used in previous project**   \n",
    "\n",
    "Determine deffinition of single property used article by James Chen Updated Sep 11, 2020 What Is a Housing Unit? \"The term housing unit refers to a single unit within a larger structure that can be used by an individual or household to eat, sleep, and live. The unit can be in any type of residence such as a house, apartment, mobile home, or may also be a single unit in a group of rooms. Essentially, a housing unit is deemed to be a separate living quarter where the occupants live and eat separately from other residents of the structure or building. They also have direct access from the building's exterior or through a common hallway.\"\n",
    "https://www.investopedia.com/terms/h/housingunits.asp   \n",
    "\n",
    "**In my opinion deffinition should include condo, townhouse, any unit that can be sold to an individual owner. So my deffinition will include townhouse, condo, ect. but not commercial, business, land only, etc. **   \n",
    "\n",
    "This site has the property use codes for LA county https://www.titleadvantage.com/mdocs/LA%20County%20Use%20Codes%20nm.pdf   \n",
    "looking at the common use codes for Duplex, Triplex, and Quadplex these codes indicate the units are multi-family/income properties or retail/store properties so these will be excluded\n",
    "\n",
    "Identify Properties in the Database: Based on the above definition some categories do not fit brief\n",
    "Propertylandusetypeid | propertylandusedesc\n",
    "No 31 Commercial/Office/Residential Mixed Used (not a residence)\n",
    "No 46 Multi-Story Store (not a residence)\n",
    "No 47 Store/Office (Mixed Use) (not a residence)\n",
    "No 246 Duplex (2 Units, Any Combination)\n",
    "No 247 Triplex (3 Units, Any Combination)\n",
    "No 248 Quadruplex (4 Units, Any Combination)\n",
    "260 Residential General\n",
    "261 Single Family Residential\n",
    "262 Rural Residence\n",
    "263 Mobile Home\n",
    "264 Townhouse\n",
    "No 265 Cluster Home\n",
    "266 Condominium\n",
    "No 267 Cooperative (become shareholder not owner)\n",
    "268 Row House    \n",
    "No 269 Planned Unit Development\n",
    "No 270 Residential Common Area (propterty feature)\n",
    "No 271 Timeshare (become shareholder not owner)\n",
    "273 Bungalow   \n",
    "274 Zero Lot Line\n",
    "275 Manufactured, Modular, Prefabricated Homes\n",
    "276 Patio Home\n",
    "279 Inferred Single Family Residential   \n",
    "No 290 Vacant Land - General (not a residence)\n",
    "No 291 Residential Vacant Land (not a residence)\n",
    "\n",
    "So we will keep only those where propertylandusetypeid = ('260', '261', '262', '263', '264', '266', '268', '273', '274', '275', '276', '279')  \n",
    "\n",
    "**acquire function updated to filter only for these**\n",
    "new shape = (71789, 70)"
   ]
  },
  {
   "cell_type": "markdown",
   "metadata": {},
   "source": [
    "2. Create a function that will drop rows or columns based on the percent of values that are missing: handle_missing_values(df, prop_required_column, prop_required_row).\n",
    "\n",
    "The input:\n",
    "df = a dataframe    \n",
    "prop_required_column = a number between 0 and 1 that represents the proportion, for each column, of rows with non-missing values required to keep the column. i.e. if prop_required_column = .6, then you are requiring a column to have at least 60% of values not-NA (no more than 40% missing).   \n",
    "prop_required_row = a number between 0 and 1 that represents the proportion, for each row, of columns/variables with non-missing values required to keep the row. For example, if prop_required_row = .75, then you are requiring a row to have at least 75% of variables with a non-missing value (no more that 25% missing).   \n",
    "\n",
    "The output: The dataframe with the columns and rows dropped as indicated. Be sure to drop the columns prior to the rows in your function.   \n",
    "\n",
    "hint: Look up the dropna documentation.\n",
    "\n",
    "You will want to compute a threshold from your input values (prop_required) and total number of rows or columns.\n",
    "\n",
    "Make use of inplace, i.e. inplace=True/False."
   ]
  },
  {
   "cell_type": "code",
   "execution_count": null,
   "metadata": {},
   "outputs": [],
   "source": [
    "# this function will be needed to remove colulms\n",
    "def remove_columns(df, cols_to_remove):  \n",
    "    df = df.drop(columns=cols_to_remove)\n",
    "    return df"
   ]
  },
  {
   "cell_type": "code",
   "execution_count": null,
   "metadata": {},
   "outputs": [],
   "source": [
    "def handle_missing_values(df, prop_required_column = .5, prop_required_row = .5):\n",
    "    threshold = int(round(prop_required_column*len(df.index),0))\n",
    "    df.dropna(axis=1, thresh=threshold, inplace=True)\n",
    "    threshold = int(round(prop_required_row*len(df.columns),0))\n",
    "    df.dropna(axis=0, thresh=threshold, inplace=True)\n",
    "    return df"
   ]
  },
  {
   "cell_type": "code",
   "execution_count": null,
   "metadata": {},
   "outputs": [],
   "source": [
    "def data_prep(df, cols_to_remove=[], prop_required_column=.5, prop_required_row=.5):\n",
    "    df = remove_columns(df, cols_to_remove)\n",
    "    df = handle_missing_values(df, prop_required_column, prop_required_row)\n",
    "    return df"
   ]
  },
  {
   "cell_type": "markdown",
   "metadata": {},
   "source": [
    "For the columns to remove we will send known duplicate columns in this first pass   \n",
    "- id\n",
    "- id.1\n",
    "- pid\n",
    "- tdate"
   ]
  },
  {
   "cell_type": "code",
   "execution_count": null,
   "metadata": {},
   "outputs": [],
   "source": [
    "z1 = prepare.data_prep(\n",
    "    df,\n",
    "    cols_to_remove=['id', 'id.1', 'pid', 'tdate'],\n",
    "    prop_required_column=.6,\n",
    "    prop_required_row=.75\n",
    ")"
   ]
  },
  {
   "cell_type": "code",
   "execution_count": null,
   "metadata": {},
   "outputs": [],
   "source": [
    "z1.head()"
   ]
  },
  {
   "cell_type": "markdown",
   "metadata": {},
   "source": [
    "3. Decide how to handle the remaining missing values:\n",
    "\n",
    "Fill with constant value.\n",
    "\n",
    "Impute with mean, median, mode.\n",
    "\n",
    "Drop row/column\n",
    "\n",
    "**wrangle_zillow.py**\n",
    "\n",
    "Functions of the work above needed to acquire and prepare a new sample of data."
   ]
  },
  {
   "cell_type": "code",
   "execution_count": null,
   "metadata": {},
   "outputs": [],
   "source": [
    "z1.shape"
   ]
  },
  {
   "cell_type": "code",
   "execution_count": null,
   "metadata": {},
   "outputs": [],
   "source": [
    "z1.isna().sum()"
   ]
  },
  {
   "cell_type": "markdown",
   "metadata": {},
   "source": [
    "parcelid                            0    \n",
    "propertylandusetypeid               0    \n",
    "heatingorsystemtypeid           25029  DROP column.   \n",
    "bathroomcnt                         0    \n",
    "bedroomcnt                          0    \n",
    "buildingqualitytypeid           26640  DROP column.   \n",
    "calculatedbathnbr                  86  this is a duplicate of bathroom count, DROP COLUMN    \n",
    "calculatedfinishedsquarefeet       13  nulls are same in this and column below, drop null rows    \n",
    "finishedsquarefeet12              222  DROP column    \n",
    "fips                                0      \n",
    "fullbathcnt                        86  fill with 1, each property has to have 1 full bath     \n",
    "latitude                            0     \n",
    "longitude                           0     \n",
    "lotsizesquarefeet                8049  DROP column          \n",
    "propertycountylandusecode           0     \n",
    "propertyzoningdesc              26252  DROP column     \n",
    "rawcensustractandblock              0     \n",
    "regionidcity                     1320  DROP column     \n",
    "regionidcounty                      0     \n",
    "regionidzip                        37  DROP rows     \n",
    "roomcnt                             0     \n",
    "unitcnt                         26264  fill with 1 for single unit     \n",
    "yearbuilt                          47  impute mean     \n",
    "structuretaxvaluedollarcnt         77  DROP column     \n",
    "taxvaluedollarcnt                   1  drop this 1 row     \n",
    "assessmentyear                      0     \n",
    "landtaxvaluedollarcnt               1  drop this 1 row     \n",
    "taxamount                           5  drop these 5 rows     \n",
    "censustractandblock               208  DROP column (have rawcensustractand block)     \n",
    "logerror                            0     \n",
    "heatingorsystemdesc             25029  DROP column     \n",
    "propertylandusedesc                 0     \n",
    "null_count                          0     \n",
    "pct_null                            0     "
   ]
  },
  {
   "cell_type": "code",
   "execution_count": null,
   "metadata": {},
   "outputs": [],
   "source": [
    "# verfify that nulls are same in both columns\n",
    "sqft = z2[(z2.calculatedfinishedsquarefeet.isna()) & (z2.finishedsquarefeet12.isna())]\n",
    "sqft"
   ]
  },
  {
   "cell_type": "code",
   "execution_count": null,
   "metadata": {},
   "outputs": [],
   "source": [
    "# drop additional columns\n",
    "cols_to_remove2 = ['heatingorsystemtypeid', 'buildingqualitytypeid', 'finishedsquarefeet12',  \n",
    "                    'lotsizesquarefeet', 'propertyzoningdesc', 'regionidcity', 'structuretaxvaluedollarcnt', \n",
    "                    'censustractandblock', 'heatingorsystemdesc', 'calculatedbathnbr']\n",
    "z1 = prepare.remove_columns(z1, cols_to_remove2)"
   ]
  },
  {
   "cell_type": "code",
   "execution_count": null,
   "metadata": {},
   "outputs": [],
   "source": [
    "# new shape\n",
    "z1.shape"
   ]
  },
  {
   "cell_type": "code",
   "execution_count": null,
   "metadata": {},
   "outputs": [],
   "source": [
    "z1.isna().sum()"
   ]
  },
  {
   "cell_type": "markdown",
   "metadata": {},
   "source": [
    "parcelid                            0     \n",
    "propertylandusetypeid               0     \n",
    "bathroomcnt                         0     \n",
    "bedroomcnt                          0     \n",
    "calculatedfinishedsquarefeet       13     drop rows\n",
    "fips                                0     \n",
    "fullbathcnt                        86     drop rows - many=bed count=0, these may not be single family\n",
    "latitude                            0     \n",
    "longitude                           0     \n",
    "propertycountylandusecode           0     \n",
    "rawcensustractandblock              0     \n",
    "regionidcounty                      0     \n",
    "regionidzip                        37     drop rows\n",
    "roomcnt                             0     \n",
    "unitcnt                         26264     fill with 1\n",
    "yearbuilt                          47     fill with mean?\n",
    "taxvaluedollarcnt                   1     drop row\n",
    "assessmentyear                      0     \n",
    "landtaxvaluedollarcnt               1     \n",
    "taxamount                           5     drop row\n",
    "logerror                            0     \n",
    "propertylandusedesc                 0     \n",
    "null_count                          0     \n",
    "pct_null                            0     "
   ]
  },
  {
   "cell_type": "code",
   "execution_count": null,
   "metadata": {},
   "outputs": [],
   "source": [
    "fullbath = z1[z1.fullbathcnt.isna()]\n",
    "fullbath"
   ]
  },
  {
   "cell_type": "code",
   "execution_count": null,
   "metadata": {},
   "outputs": [],
   "source": [
    "z1.unitcnt = z1.unitcnt.fillna(value=1)"
   ]
  },
  {
   "cell_type": "code",
   "execution_count": null,
   "metadata": {},
   "outputs": [],
   "source": [
    "z1.isna().sum()"
   ]
  },
  {
   "cell_type": "code",
   "execution_count": null,
   "metadata": {},
   "outputs": [],
   "source": [
    "# drop remaining rows with nulls\n",
    "z1 = z1.dropna()\n",
    "z1.shape"
   ]
  },
  {
   "cell_type": "code",
   "execution_count": null,
   "metadata": {},
   "outputs": [],
   "source": [
    "z1.isna().sum()"
   ]
  },
  {
   "cell_type": "code",
   "execution_count": null,
   "metadata": {},
   "outputs": [],
   "source": [
    "# test wrangle_zillow_cluster function in wrangle_zillow.py\n",
    "import pandas as pd\n",
    "import acquire\n",
    "import prepare\n",
    "import wrangle_zillow\n",
    "\n",
    "df = wrangle_zillow.wrangle_zillow_cluster()"
   ]
  },
  {
   "cell_type": "code",
   "execution_count": null,
   "metadata": {},
   "outputs": [],
   "source": [
    "df.shape"
   ]
  },
  {
   "cell_type": "code",
   "execution_count": null,
   "metadata": {},
   "outputs": [],
   "source": [
    "df.isna().sum()"
   ]
  },
  {
   "cell_type": "markdown",
   "metadata": {},
   "source": [
    "remaining Mall Customers exercises moved to seperate notebook as requested"
   ]
  },
  {
   "cell_type": "markdown",
   "metadata": {},
   "source": [
    "# all required exercises completed"
   ]
  },
  {
   "cell_type": "markdown",
   "metadata": {},
   "source": [
    "### now trying to get upper and lower outliers working with Zillow dataset"
   ]
  },
  {
   "cell_type": "code",
   "execution_count": 1,
   "metadata": {},
   "outputs": [
    {
     "name": "stdout",
     "output_type": "stream",
     "text": [
      "(71431, 22)\n",
      "<class 'pandas.core.frame.DataFrame'>\n",
      "Int64Index: 71431 entries, 0 to 71788\n",
      "Data columns (total 22 columns):\n",
      " #   Column                        Non-Null Count  Dtype  \n",
      "---  ------                        --------------  -----  \n",
      " 0   parcelid                      71431 non-null  int64  \n",
      " 1   propertylandusetypeid         71431 non-null  float64\n",
      " 2   bathroomcnt                   71431 non-null  float64\n",
      " 3   bedroomcnt                    71431 non-null  float64\n",
      " 4   calculatedfinishedsquarefeet  71431 non-null  float64\n",
      " 5   fips                          71431 non-null  float64\n",
      " 6   fullbathcnt                   71431 non-null  float64\n",
      " 7   latitude                      71431 non-null  float64\n",
      " 8   longitude                     71431 non-null  float64\n",
      " 9   propertycountylandusecode     71431 non-null  object \n",
      " 10  rawcensustractandblock        71431 non-null  float64\n",
      " 11  regionidcounty                71431 non-null  float64\n",
      " 12  regionidzip                   71431 non-null  float64\n",
      " 13  roomcnt                       71431 non-null  float64\n",
      " 14  unitcnt                       71431 non-null  float64\n",
      " 15  yearbuilt                     71431 non-null  float64\n",
      " 16  taxvaluedollarcnt             71431 non-null  float64\n",
      " 17  assessmentyear                71431 non-null  float64\n",
      " 18  landtaxvaluedollarcnt         71431 non-null  float64\n",
      " 19  taxamount                     71431 non-null  float64\n",
      " 20  logerror                      71431 non-null  float64\n",
      " 21  propertylandusedesc           71431 non-null  object \n",
      "dtypes: float64(19), int64(1), object(2)\n",
      "memory usage: 12.5+ MB\n",
      "None\n",
      "           parcelid  propertylandusetypeid   bathroomcnt    bedroomcnt  \\\n",
      "count  7.143100e+04           71431.000000  71431.000000  71431.000000   \n",
      "mean   1.299223e+07             262.352410      2.268581      3.009856   \n",
      "std    2.112373e+06               2.233468      0.946658      1.020352   \n",
      "min    1.071186e+07             260.000000      1.000000      0.000000   \n",
      "25%    1.153505e+07             261.000000      2.000000      2.000000   \n",
      "50%    1.257066e+07             261.000000      2.000000      3.000000   \n",
      "75%    1.424835e+07             266.000000      3.000000      4.000000   \n",
      "max    1.629608e+08             275.000000     18.000000     14.000000   \n",
      "\n",
      "       calculatedfinishedsquarefeet          fips   fullbathcnt      latitude  \\\n",
      "count                  71431.000000  71431.000000  71431.000000  7.143100e+04   \n",
      "mean                    1751.536896   6049.185158      2.198121  3.400460e+07   \n",
      "std                      932.346880     20.719580      0.927984  2.694051e+05   \n",
      "min                      152.000000   6037.000000      1.000000  3.333953e+07   \n",
      "25%                     1164.000000   6037.000000      2.000000  3.380430e+07   \n",
      "50%                     1512.000000   6037.000000      2.000000  3.401693e+07   \n",
      "75%                     2065.000000   6059.000000      3.000000  3.417575e+07   \n",
      "max                    21929.000000   6111.000000     18.000000  3.481877e+07   \n",
      "\n",
      "          longitude  rawcensustractandblock  regionidcounty    regionidzip  \\\n",
      "count  7.143100e+04            7.143100e+04    71431.000000   71431.000000   \n",
      "mean  -1.181951e+08            6.049487e+07     2503.372219   96607.683933   \n",
      "std    3.611733e+05            2.056202e+05      814.048662    3950.161463   \n",
      "min   -1.194753e+08            6.037101e+07     1286.000000   95982.000000   \n",
      "25%   -1.184140e+08            6.037320e+07     1286.000000   96206.000000   \n",
      "50%   -1.181670e+08            6.037621e+07     3101.000000   96403.000000   \n",
      "75%   -1.179153e+08            6.059042e+07     3101.000000   96989.000000   \n",
      "max   -1.175546e+08            6.111009e+07     3101.000000  399675.000000   \n",
      "\n",
      "            roomcnt       unitcnt     yearbuilt  taxvaluedollarcnt  \\\n",
      "count  71431.000000  71431.000000  71431.000000       7.143100e+04   \n",
      "mean       1.567905      1.000672   1969.275245       4.893969e+05   \n",
      "std        2.891738      0.034692     23.154867       6.602853e+05   \n",
      "min        0.000000      1.000000   1878.000000       1.000000e+03   \n",
      "25%        0.000000      1.000000   1954.000000       2.046585e+05   \n",
      "50%        0.000000      1.000000   1970.000000       3.570990e+05   \n",
      "75%        0.000000      1.000000   1987.000000       5.675895e+05   \n",
      "max       15.000000      6.000000   2016.000000       4.906124e+07   \n",
      "\n",
      "       assessmentyear  landtaxvaluedollarcnt      taxamount      logerror  \n",
      "count         71431.0           7.143100e+04   71431.000000  71431.000000  \n",
      "mean           2016.0           3.017548e+05    5967.635432      0.016604  \n",
      "std               0.0           4.999719e+05    7696.534126      0.167137  \n",
      "min            2016.0           1.610000e+02      19.920000     -4.655420  \n",
      "25%            2016.0           8.366800e+04    2685.650000     -0.023614  \n",
      "50%            2016.0           2.038690e+05    4411.340000      0.006614  \n",
      "75%            2016.0           3.680100e+05    6863.670000      0.038269  \n",
      "max            2016.0           4.895220e+07  586639.300000      5.262999  \n",
      "                              num_rows_missing  pct_rows_missing\n",
      "parcelid                                     0               0.0\n",
      "propertylandusetypeid                        0               0.0\n",
      "bathroomcnt                                  0               0.0\n",
      "bedroomcnt                                   0               0.0\n",
      "calculatedfinishedsquarefeet                 0               0.0\n",
      "fips                                         0               0.0\n",
      "fullbathcnt                                  0               0.0\n",
      "latitude                                     0               0.0\n",
      "longitude                                    0               0.0\n",
      "propertycountylandusecode                    0               0.0\n",
      "rawcensustractandblock                       0               0.0\n",
      "regionidcounty                               0               0.0\n",
      "regionidzip                                  0               0.0\n",
      "roomcnt                                      0               0.0\n",
      "unitcnt                                      0               0.0\n",
      "yearbuilt                                    0               0.0\n",
      "taxvaluedollarcnt                            0               0.0\n",
      "assessmentyear                               0               0.0\n",
      "landtaxvaluedollarcnt                        0               0.0\n",
      "taxamount                                    0               0.0\n",
      "logerror                                     0               0.0\n",
      "propertylandusedesc                          0               0.0\n",
      "   null_count  pct_null  rows_with_count\n",
      "0           0       0.0            71431\n"
     ]
    },
    {
     "data": {
      "image/png": "[encoded data removed]",
      "text/plain": [
       "<Figure size 1728x720 with 25 Axes>"
      ]
     },
     "metadata": {
      "needs_background": "light"
     },
     "output_type": "display_data"
    },
    {
     "name": "stdout",
     "output_type": "stream",
     "text": [
      "None [[<matplotlib.axes._subplots.AxesSubplot object at 0x7f8950555ed0>\n",
      "  <matplotlib.axes._subplots.AxesSubplot object at 0x7f8938260f90>\n",
      "  <matplotlib.axes._subplots.AxesSubplot object at 0x7f8938296c50>\n",
      "  <matplotlib.axes._subplots.AxesSubplot object at 0x7f89382d9fd0>\n",
      "  <matplotlib.axes._subplots.AxesSubplot object at 0x7f893830dcd0>]\n",
      " [<matplotlib.axes._subplots.AxesSubplot object at 0x7f893834eed0>\n",
      "  <matplotlib.axes._subplots.AxesSubplot object at 0x7f8938384b50>\n",
      "  <matplotlib.axes._subplots.AxesSubplot object at 0x7f89383c0390>\n",
      "  <matplotlib.axes._subplots.AxesSubplot object at 0x7f89383c0ed0>\n",
      "  <matplotlib.axes._subplots.AxesSubplot object at 0x7f8938400890>]\n",
      " [<matplotlib.axes._subplots.AxesSubplot object at 0x7f893846bbd0>\n",
      "  <matplotlib.axes._subplots.AxesSubplot object at 0x7f89384abf50>\n",
      "  <matplotlib.axes._subplots.AxesSubplot object at 0x7f8938608c10>\n",
      "  <matplotlib.axes._subplots.AxesSubplot object at 0x7f8938647f90>\n",
      "  <matplotlib.axes._subplots.AxesSubplot object at 0x7f893867bc50>]\n",
      " [<matplotlib.axes._subplots.AxesSubplot object at 0x7f89386bbfd0>\n",
      "  <matplotlib.axes._subplots.AxesSubplot object at 0x7f89386f0c90>\n",
      "  <matplotlib.axes._subplots.AxesSubplot object at 0x7f893882f4d0>\n",
      "  <matplotlib.axes._subplots.AxesSubplot object at 0x7f8938864cd0>\n",
      "  <matplotlib.axes._subplots.AxesSubplot object at 0x7f89388a5510>]\n",
      " [<matplotlib.axes._subplots.AxesSubplot object at 0x7f89388dad10>\n",
      "  <matplotlib.axes._subplots.AxesSubplot object at 0x7f8938919550>\n",
      "  <matplotlib.axes._subplots.AxesSubplot object at 0x7f893894ed50>\n",
      "  <matplotlib.axes._subplots.AxesSubplot object at 0x7f893898e590>\n",
      "  <matplotlib.axes._subplots.AxesSubplot object at 0x7f89389c0d90>]] None\n"
     ]
    }
   ],
   "source": [
    "# currently df is not split or scaled\n",
    "import pandas as pd\n",
    "import acquire\n",
    "import prepare\n",
    "import summarize\n",
    "import wrangle_zillow\n",
    "\n",
    "zillow = wrangle_zillow.wrangle_zillow_cluster()"
   ]
  },
  {
   "cell_type": "code",
   "execution_count": 2,
   "metadata": {},
   "outputs": [
    {
     "data": {
      "text/html": [
       "<div>\n",
       "<style scoped>\n",
       "    .dataframe tbody tr th:only-of-type {\n",
       "        vertical-align: middle;\n",
       "    }\n",
       "\n",
       "    .dataframe tbody tr th {\n",
       "        vertical-align: top;\n",
       "    }\n",
       "\n",
       "    .dataframe thead th {\n",
       "        text-align: right;\n",
       "    }\n",
       "</style>\n",
       "<table border=\"1\" class=\"dataframe\">\n",
       "  <thead>\n",
       "    <tr style=\"text-align: right;\">\n",
       "      <th></th>\n",
       "      <th>parcelid</th>\n",
       "      <th>propertylandusetypeid</th>\n",
       "      <th>bathroomcnt</th>\n",
       "      <th>bedroomcnt</th>\n",
       "      <th>calculatedfinishedsquarefeet</th>\n",
       "      <th>fips</th>\n",
       "      <th>fullbathcnt</th>\n",
       "      <th>latitude</th>\n",
       "      <th>longitude</th>\n",
       "      <th>propertycountylandusecode</th>\n",
       "      <th>...</th>\n",
       "      <th>regionidzip</th>\n",
       "      <th>roomcnt</th>\n",
       "      <th>unitcnt</th>\n",
       "      <th>yearbuilt</th>\n",
       "      <th>taxvaluedollarcnt</th>\n",
       "      <th>assessmentyear</th>\n",
       "      <th>landtaxvaluedollarcnt</th>\n",
       "      <th>taxamount</th>\n",
       "      <th>logerror</th>\n",
       "      <th>propertylandusedesc</th>\n",
       "    </tr>\n",
       "  </thead>\n",
       "  <tbody>\n",
       "    <tr>\n",
       "      <th>1</th>\n",
       "      <td>17052889</td>\n",
       "      <td>261.0</td>\n",
       "      <td>1.0</td>\n",
       "      <td>2.0</td>\n",
       "      <td>1465.0</td>\n",
       "      <td>6111.0</td>\n",
       "      <td>1.0</td>\n",
       "      <td>34449266.0</td>\n",
       "      <td>-119281531.0</td>\n",
       "      <td>1110</td>\n",
       "      <td>...</td>\n",
       "      <td>97099.0</td>\n",
       "      <td>5.0</td>\n",
       "      <td>1.0</td>\n",
       "      <td>1967.0</td>\n",
       "      <td>464000.0</td>\n",
       "      <td>2016.0</td>\n",
       "      <td>376000.0</td>\n",
       "      <td>5672.48</td>\n",
       "      <td>0.055619</td>\n",
       "      <td>Single Family Residential</td>\n",
       "    </tr>\n",
       "    <tr>\n",
       "      <th>2</th>\n",
       "      <td>14186244</td>\n",
       "      <td>261.0</td>\n",
       "      <td>2.0</td>\n",
       "      <td>3.0</td>\n",
       "      <td>1243.0</td>\n",
       "      <td>6059.0</td>\n",
       "      <td>2.0</td>\n",
       "      <td>33886168.0</td>\n",
       "      <td>-117823170.0</td>\n",
       "      <td>122</td>\n",
       "      <td>...</td>\n",
       "      <td>97078.0</td>\n",
       "      <td>6.0</td>\n",
       "      <td>1.0</td>\n",
       "      <td>1962.0</td>\n",
       "      <td>564778.0</td>\n",
       "      <td>2016.0</td>\n",
       "      <td>479489.0</td>\n",
       "      <td>6488.30</td>\n",
       "      <td>0.005383</td>\n",
       "      <td>Single Family Residential</td>\n",
       "    </tr>\n",
       "    <tr>\n",
       "      <th>3</th>\n",
       "      <td>12177905</td>\n",
       "      <td>261.0</td>\n",
       "      <td>3.0</td>\n",
       "      <td>4.0</td>\n",
       "      <td>2376.0</td>\n",
       "      <td>6037.0</td>\n",
       "      <td>3.0</td>\n",
       "      <td>34245180.0</td>\n",
       "      <td>-118240722.0</td>\n",
       "      <td>0101</td>\n",
       "      <td>...</td>\n",
       "      <td>96330.0</td>\n",
       "      <td>0.0</td>\n",
       "      <td>1.0</td>\n",
       "      <td>1970.0</td>\n",
       "      <td>145143.0</td>\n",
       "      <td>2016.0</td>\n",
       "      <td>36225.0</td>\n",
       "      <td>1777.51</td>\n",
       "      <td>-0.103410</td>\n",
       "      <td>Single Family Residential</td>\n",
       "    </tr>\n",
       "    <tr>\n",
       "      <th>4</th>\n",
       "      <td>10887214</td>\n",
       "      <td>266.0</td>\n",
       "      <td>3.0</td>\n",
       "      <td>3.0</td>\n",
       "      <td>1312.0</td>\n",
       "      <td>6037.0</td>\n",
       "      <td>3.0</td>\n",
       "      <td>34185120.0</td>\n",
       "      <td>-118414640.0</td>\n",
       "      <td>010C</td>\n",
       "      <td>...</td>\n",
       "      <td>96451.0</td>\n",
       "      <td>0.0</td>\n",
       "      <td>1.0</td>\n",
       "      <td>1964.0</td>\n",
       "      <td>119407.0</td>\n",
       "      <td>2016.0</td>\n",
       "      <td>45726.0</td>\n",
       "      <td>1533.89</td>\n",
       "      <td>0.006940</td>\n",
       "      <td>Condominium</td>\n",
       "    </tr>\n",
       "    <tr>\n",
       "      <th>5</th>\n",
       "      <td>17143294</td>\n",
       "      <td>266.0</td>\n",
       "      <td>2.0</td>\n",
       "      <td>3.0</td>\n",
       "      <td>1492.0</td>\n",
       "      <td>6111.0</td>\n",
       "      <td>2.0</td>\n",
       "      <td>34230044.0</td>\n",
       "      <td>-118993991.0</td>\n",
       "      <td>1129</td>\n",
       "      <td>...</td>\n",
       "      <td>97091.0</td>\n",
       "      <td>6.0</td>\n",
       "      <td>1.0</td>\n",
       "      <td>1982.0</td>\n",
       "      <td>331064.0</td>\n",
       "      <td>2016.0</td>\n",
       "      <td>132424.0</td>\n",
       "      <td>3508.10</td>\n",
       "      <td>-0.020526</td>\n",
       "      <td>Condominium</td>\n",
       "    </tr>\n",
       "  </tbody>\n",
       "</table>\n",
       "<p>5 rows × 22 columns</p>\n",
       "</div>"
      ],
      "text/plain": [
       "   parcelid  propertylandusetypeid  bathroomcnt  bedroomcnt  \\\n",
       "1  17052889                  261.0          1.0         2.0   \n",
       "2  14186244                  261.0          2.0         3.0   \n",
       "3  12177905                  261.0          3.0         4.0   \n",
       "4  10887214                  266.0          3.0         3.0   \n",
       "5  17143294                  266.0          2.0         3.0   \n",
       "\n",
       "   calculatedfinishedsquarefeet    fips  fullbathcnt    latitude    longitude  \\\n",
       "1                        1465.0  6111.0          1.0  34449266.0 -119281531.0   \n",
       "2                        1243.0  6059.0          2.0  33886168.0 -117823170.0   \n",
       "3                        2376.0  6037.0          3.0  34245180.0 -118240722.0   \n",
       "4                        1312.0  6037.0          3.0  34185120.0 -118414640.0   \n",
       "5                        1492.0  6111.0          2.0  34230044.0 -118993991.0   \n",
       "\n",
       "  propertycountylandusecode  ...  regionidzip  roomcnt  unitcnt  yearbuilt  \\\n",
       "1                      1110  ...      97099.0      5.0      1.0     1967.0   \n",
       "2                       122  ...      97078.0      6.0      1.0     1962.0   \n",
       "3                      0101  ...      96330.0      0.0      1.0     1970.0   \n",
       "4                      010C  ...      96451.0      0.0      1.0     1964.0   \n",
       "5                      1129  ...      97091.0      6.0      1.0     1982.0   \n",
       "\n",
       "   taxvaluedollarcnt  assessmentyear  landtaxvaluedollarcnt  taxamount  \\\n",
       "1           464000.0          2016.0               376000.0    5672.48   \n",
       "2           564778.0          2016.0               479489.0    6488.30   \n",
       "3           145143.0          2016.0                36225.0    1777.51   \n",
       "4           119407.0          2016.0                45726.0    1533.89   \n",
       "5           331064.0          2016.0               132424.0    3508.10   \n",
       "\n",
       "   logerror        propertylandusedesc  \n",
       "1  0.055619  Single Family Residential  \n",
       "2  0.005383  Single Family Residential  \n",
       "3 -0.103410  Single Family Residential  \n",
       "4  0.006940                Condominium  \n",
       "5 -0.020526                Condominium  \n",
       "\n",
       "[5 rows x 22 columns]"
      ]
     },
     "execution_count": 2,
     "metadata": {},
     "output_type": "execute_result"
    }
   ],
   "source": [
    "zillow.head()"
   ]
  },
  {
   "cell_type": "code",
   "execution_count": 3,
   "metadata": {},
   "outputs": [
    {
     "data": {
      "text/plain": [
       "(51735, 22)"
      ]
     },
     "execution_count": 3,
     "metadata": {},
     "output_type": "execute_result"
    }
   ],
   "source": [
    "zillow.shape"
   ]
  },
  {
   "cell_type": "code",
   "execution_count": null,
   "metadata": {
    "scrolled": false
   },
   "outputs": [],
   "source": [
    "# try summarize function\n",
    "zsummary = summarize.df_summary(zillow)\n",
    "\n",
    "# is there a way to make this display differently? #\n",
    "# yes, in command mode press shift o to toggle off auto scrolling for this cell\n",
    "# https://www.google.com/search?client=safari&rls=en&sxsrf=ALeKk007WEMYRJLpmal8zeXv4dQ8a5Rb5Q:1602606052506&q=jupyter+show+full+output+without+scroll&sa=X&ved=2ahUKEwi0tuXj_LHsAhUDXK0KHampCYEQ1QIoAnoECBYQAw&biw=1440&bih=814"
   ]
  },
  {
   "cell_type": "code",
   "execution_count": null,
   "metadata": {},
   "outputs": [],
   "source": []
  },
  {
   "cell_type": "code",
   "execution_count": null,
   "metadata": {},
   "outputs": [],
   "source": []
  },
  {
   "cell_type": "markdown",
   "metadata": {},
   "source": [
    "While this area of the country does have a broad range of housing values and therefore tax values, we know from previous work with this dataset that the tax rate range is from .001% up to 45% which is unrealistic for tax rates in 2017. Therefore we will determine a point at which to drop outliers above and below the IQR."
   ]
  },
  {
   "cell_type": "code",
   "execution_count": null,
   "metadata": {
    "scrolled": true
   },
   "outputs": [],
   "source": [
    "zillow = prepare.add_upper_outlier_columns(zillow, k=1.5)  \n",
    "\n",
    "outlier_cols = [col for col in zillow if col.endswith('_up_outliers')]\n",
    "for col in outlier_cols:\n",
    "    print('~~~\\n' + col)\n",
    "    data = zillow[col][zillow[col] > 0]\n",
    "    print(data.describe())"
   ]
  },
  {
   "cell_type": "markdown",
   "metadata": {},
   "source": [
    "*****\n",
    "**Upperbound Outliers to HANDLE**   \n",
    "\n",
    "**taxamount_outliers**     \n",
    "count      4894.000000     \n",
    "mean      10979.609790     \n",
    "std       20235.975915     \n",
    "min           0.830000     \n",
    "25%        1997.677500     \n",
    "50%        5367.625000     \n",
    "75%       12289.405000     \n",
    "max      573508.600000     \n",
    "Name: taxamount_outliers, dtype: float64     \n",
    "    \n",
    "*******"
   ]
  },
  {
   "cell_type": "markdown",
   "metadata": {},
   "source": [
    "**based on the above info drop upperbound outliers that are above 50th percentile of upperbound outliers**\n",
    "\n",
    "reasoning: there is a significant jump from the 25th to 50th percentile making this a logical place to start removing outliers while still keeping some outliers above the upperbound"
   ]
  },
  {
   "cell_type": "code",
   "execution_count": null,
   "metadata": {},
   "outputs": [],
   "source": [
    "zillow.head()"
   ]
  },
  {
   "cell_type": "code",
   "execution_count": null,
   "metadata": {},
   "outputs": [],
   "source": []
  },
  {
   "cell_type": "code",
   "execution_count": null,
   "metadata": {},
   "outputs": [],
   "source": [
    "# identify rows that are above 50th percentile\n",
    "zup_drop_index = zillow[zillow.taxamount_up_outliers > 5365].index\n",
    "# this identifies 2450 rows to drop"
   ]
  },
  {
   "cell_type": "code",
   "execution_count": null,
   "metadata": {},
   "outputs": [],
   "source": [
    "# drop those rows from the dataframe\n",
    "zillow.drop(zup_drop_index, inplace=True)"
   ]
  },
  {
   "cell_type": "code",
   "execution_count": null,
   "metadata": {},
   "outputs": [],
   "source": [
    "zillow.shape"
   ]
  },
  {
   "cell_type": "code",
   "execution_count": null,
   "metadata": {
    "scrolled": true
   },
   "outputs": [],
   "source": [
    "zillow = prepare.add_lower_outlier_columns(zillow, k=1.5)  \n",
    "\n",
    "outlier_cols = [col for col in zillow if col.endswith('_low_outliers')]\n",
    "for col in outlier_cols:\n",
    "    print('~~~\\n' + col)\n",
    "    data = zillow[col][zillow[col] > 0]\n",
    "    print(data.describe())"
   ]
  },
  {
   "cell_type": "markdown",
   "metadata": {},
   "source": [
    "********\n",
    "**Lowerbound Outliers to HANDLE**\n",
    "\n",
    "**taxamount_outliers**     \n",
    "count    68981.000000    \n",
    "mean      8203.408061    \n",
    "std       3350.880803    \n",
    "min       3210.485000    \n",
    "25%       5817.075000    \n",
    "50%       7473.745000    \n",
    "75%       9695.125000    \n",
    "max      21685.205000    \n",
    "Name: taxamount_low_outliers, dtype: float64                  \n",
    "   \n",
    "*******"
   ]
  },
  {
   "cell_type": "markdown",
   "metadata": {},
   "source": [
    "**based on the above drop rows that are above the 75th lowerbound percentile**\n",
    "\n",
    "reasoning: there is a significant jump from the 50th to 75th percentile making this a logical place to start removing outliers while still keeping some outliers above the lowerbound"
   ]
  },
  {
   "cell_type": "code",
   "execution_count": null,
   "metadata": {},
   "outputs": [],
   "source": [
    "# identify rows that are above 75th percentile\n",
    "zlow_drop_index = zillow[zillow.taxamount_low_outliers > 9695].index\n",
    "# this identifies 17,246 rows to drop"
   ]
  },
  {
   "cell_type": "code",
   "execution_count": null,
   "metadata": {},
   "outputs": [],
   "source": [
    "# drop those rows from the dataframe\n",
    "zillow.drop(zlow_drop_index, inplace=True)"
   ]
  },
  {
   "cell_type": "code",
   "execution_count": null,
   "metadata": {},
   "outputs": [],
   "source": [
    "zillow.shape"
   ]
  },
  {
   "cell_type": "code",
   "execution_count": null,
   "metadata": {},
   "outputs": [],
   "source": [
    "zlow_drop_index"
   ]
  },
  {
   "cell_type": "code",
   "execution_count": null,
   "metadata": {},
   "outputs": [],
   "source": []
  }
 ],
 "metadata": {
  "kernelspec": {
   "display_name": "Python 3",
   "language": "python",
   "name": "python3"
  },
  "language_info": {
   "codemirror_mode": {
    "name": "ipython",
    "version": 3
   },
   "file_extension": ".py",
   "mimetype": "text/x-python",
   "name": "python",
   "nbconvert_exporter": "python",
   "pygments_lexer": "ipython3",
   "version": "3.7.6"
  }
 },
 "nbformat": 4,
 "nbformat_minor": 4
}
