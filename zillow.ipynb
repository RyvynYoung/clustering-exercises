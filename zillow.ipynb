{
 "cells": [
  {
   "cell_type": "markdown",
   "metadata": {},
   "source": [
    "# Data Wrangling Exercises"
   ]
  },
  {
   "cell_type": "markdown",
   "metadata": {},
   "source": [
    "## Acquire (acquire.py)\n",
    "\n",
    "### Zillow\n",
    "\n",
    "For the following, iterate through the steps you would take to create functions: Write the code to do the following in a jupyter notebook, test it, convert to functions, then create the file to house those functions.\n",
    "\n",
    "You will have a zillow.ipynb file and a helper file for each section in the pipeline.\n",
    "\n",
    "**acquire & summarize**\n",
    "\n",
    "1. Acquire data from mySQL using the python module to connect and query. You will want to end with a single dataframe. Make sure to include: the logerror, all fields related to the properties that are available. You will end up using all the tables in the database.\n",
    "\n",
    "Be sure to do the correct join (inner, outer, etc.). We do not want to eliminate properties purely because they may have a null value for airconditioningtypeid.\n",
    "Only include properties with a transaction in 2017, and include only the last transaction for each properity (so no duplicate property ID's), along with zestimate error and date of transaction.\n",
    "Only include properties that include a latitude and longitude value.\n",
    "\n"
   ]
  },
  {
   "cell_type": "code",
   "execution_count": 1,
   "metadata": {},
   "outputs": [],
   "source": [
    "import pandas as pd\n",
    "import acquire\n",
    "import prepare"
   ]
  },
  {
   "cell_type": "code",
   "execution_count": 2,
   "metadata": {},
   "outputs": [],
   "source": [
    "df = acquire.get_zillow_cluster_data()"
   ]
  },
  {
   "cell_type": "markdown",
   "metadata": {},
   "source": [
    "**acquire & summarize**\n",
    "2. Summarize your data (summary stats, info, dtypes, shape, distributions, value_counts, etc.)"
   ]
  },
  {
   "cell_type": "code",
   "execution_count": null,
   "metadata": {},
   "outputs": [],
   "source": [
    "# before added filter for property use type = (77381, 70)\n",
    "df.shape"
   ]
  },
  {
   "cell_type": "code",
   "execution_count": null,
   "metadata": {},
   "outputs": [],
   "source": [
    "df.head()"
   ]
  },
  {
   "cell_type": "code",
   "execution_count": null,
   "metadata": {},
   "outputs": [],
   "source": [
    "df.dtypes"
   ]
  },
  {
   "cell_type": "code",
   "execution_count": null,
   "metadata": {},
   "outputs": [],
   "source": [
    "df.info()"
   ]
  },
  {
   "cell_type": "code",
   "execution_count": null,
   "metadata": {},
   "outputs": [],
   "source": [
    "df.describe().T"
   ]
  },
  {
   "cell_type": "markdown",
   "metadata": {},
   "source": [
    "**acquire & summarize**   \n",
    "3. Write a function that takes in a dataframe of observations and attributes and returns a dataframe where each row is an atttribute name, the first column is the number of rows with missing values for that attribute, and the second column is percent of total rows that have missing values for that attribute. Run the function and document takeaways from this on how you want to handle missing values. \n",
    "\n",
    "    |           |num_rows_missing |pct_rows_missing   \n",
    "    | parcelid|\t0|\t0.000000   \n",
    "    | airconditioningtypeid |\t29041 |\t0.535486   \n",
    "    | architecturalstyletypeid |\t54232 |\t0.999982   \n"
   ]
  },
  {
   "cell_type": "code",
   "execution_count": null,
   "metadata": {},
   "outputs": [],
   "source": [
    "num_rows_missing = df.isna().sum()\n",
    "num_rows_missing"
   ]
  },
  {
   "cell_type": "code",
   "execution_count": null,
   "metadata": {},
   "outputs": [],
   "source": [
    "dfmissing = pd.DataFrame(num_rows_missing, columns=['num_rows_missing'])\n",
    "\n",
    "dfmissing.head()"
   ]
  },
  {
   "cell_type": "code",
   "execution_count": null,
   "metadata": {},
   "outputs": [],
   "source": [
    "dfmissing['pct_rows_missing'] = dfmissing.num_rows_missing/df.shape[0]\n",
    "dfmissing.head()"
   ]
  },
  {
   "cell_type": "code",
   "execution_count": null,
   "metadata": {},
   "outputs": [],
   "source": [
    "def get_missing_rows(df):\n",
    "    '''\n",
    "    Write a function that takes in a dataframe of observations and attributes and returns a dataframe\n",
    "    where each row is an atttribute name, the first column is the number of rows with missing values \n",
    "    for that attribute, and the second column is percent of total rows that have missing values for that \n",
    "    attribute. Run the function and document takeaways from this on how you want to handle missing values\n",
    "    '''\n",
    "    # find the number of rows in each column that are missing values\n",
    "    num_rows_missing = df.isna().sum()\n",
    "    # create new df with just that column\n",
    "    dfrows = pd.DataFrame(num_rows_missing, columns=['num_rows_missing'])\n",
    "    # add a calculation of % missing to the new df\n",
    "    dfrows['pct_rows_missing'] = dfrows.num_rows_missing/df.shape[0]\n",
    "    # return the new df\n",
    "    return dfrows"
   ]
  },
  {
   "cell_type": "code",
   "execution_count": null,
   "metadata": {},
   "outputs": [],
   "source": [
    "zrows = get_missing_rows(df)\n",
    "zrows.head(35)"
   ]
  },
  {
   "cell_type": "code",
   "execution_count": null,
   "metadata": {},
   "outputs": [],
   "source": [
    "zrows.tail(35)"
   ]
  },
  {
   "cell_type": "markdown",
   "metadata": {},
   "source": [
    "****\n",
    "**take aways**\n",
    "1. could fireplace, garage, pool, hottub, deck be made to 0 or 1 then summed as \"plus_item\" column?\n",
    "    - this would assume null values do not have the feature, as opposed to feature is present but not noted\n",
    "2. drop features with 70% or more missing values to start\n",
    "****"
   ]
  },
  {
   "cell_type": "markdown",
   "metadata": {},
   "source": [
    "4. Write a function that takes in a dataframe and returns a dataframe with 3 columns: the number of columns missing, percent of columns missing, and number of rows with n columns missing. Run the function and document takeaways from this on how you want to handle missing values.\n",
    "\n",
    "num_cols_missing\tpct_cols_missing\tnum_rows   \n",
    "23\t38.333\t108   \n",
    "24\t40.000\t123   \n",
    "25\t41.667\t5280   "
   ]
  },
  {
   "cell_type": "code",
   "execution_count": null,
   "metadata": {},
   "outputs": [],
   "source": [
    "# rephrase of question:\n",
    "# for each observation how many columns are missing values?\n",
    "# what is the % of columns with missing values for that row?\n",
    "# group the rows with the same ansers to those 2 questions together"
   ]
  },
  {
   "cell_type": "code",
   "execution_count": null,
   "metadata": {},
   "outputs": [],
   "source": [
    "df.head()"
   ]
  },
  {
   "cell_type": "code",
   "execution_count": null,
   "metadata": {},
   "outputs": [],
   "source": [
    "# this will add a column that has a total number of columns that are blank for that row\n",
    "df['null_count'] = df.isna().sum(axis=1)\n",
    "null_count = df.null_count\n",
    "df.head()"
   ]
  },
  {
   "cell_type": "code",
   "execution_count": null,
   "metadata": {},
   "outputs": [],
   "source": [
    "# this calculates the percentage of null columns for that row\n",
    "df['pct_null'] = df.null_count/df.shape[1]\n",
    "pct_null = df.pct_null\n",
    "df.head()"
   ]
  },
  {
   "cell_type": "code",
   "execution_count": null,
   "metadata": {},
   "outputs": [],
   "source": [
    "# this gets a dataframe with just the 2 new columns\n",
    "dfcol = pd.DataFrame(null_count, columns=['null_count'])\n",
    "dfcol['pct_null'] = pct_null\n",
    "dfcol.head()"
   ]
  },
  {
   "cell_type": "code",
   "execution_count": null,
   "metadata": {},
   "outputs": [],
   "source": [
    "# this shows how many groups of rows have the same number of null columns\n",
    "dfcol.nunique()"
   ]
  },
  {
   "cell_type": "code",
   "execution_count": null,
   "metadata": {},
   "outputs": [],
   "source": [
    "# create a series that has the number of rows in each group\n",
    "num_rows_ingroup = dfcol.null_count.value_counts()\n",
    "# create a dataframe with the count of null_count and pct_null\n",
    "groups = dfcol.groupby(['null_count', 'pct_null']).count()"
   ]
  },
  {
   "cell_type": "code",
   "execution_count": null,
   "metadata": {},
   "outputs": [],
   "source": [
    "# create a df from the num_rows_ingroup, rename the columns, sort, and reset the index \n",
    "dfnum_rows = pd.DataFrame(num_rows_ingroup)\n",
    "dfnum_rows = dfnum_rows.reset_index()\n",
    "dfnum_rows = dfnum_rows.rename(columns={'index': 'num_null_col', 'null_count': 'num_rows_with_count'})\n",
    "dfnum_rows = dfnum_rows.sort_values('num_null_col')\n",
    "dfnum_rows = dfnum_rows.reset_index()"
   ]
  },
  {
   "cell_type": "code",
   "execution_count": null,
   "metadata": {},
   "outputs": [],
   "source": [
    "#visual check\n",
    "dfnum_rows"
   ]
  },
  {
   "cell_type": "code",
   "execution_count": null,
   "metadata": {},
   "outputs": [],
   "source": [
    "# reset the index on the groups df so that we can add the num_rows_with_count\n",
    "groups = groups.reset_index()"
   ]
  },
  {
   "cell_type": "code",
   "execution_count": null,
   "metadata": {},
   "outputs": [],
   "source": [
    "# visual check\n",
    "groups"
   ]
  },
  {
   "cell_type": "code",
   "execution_count": null,
   "metadata": {},
   "outputs": [],
   "source": [
    "# combine num_rows_with_count from dfnum_rows with groups\n",
    "groups['rows_with_count'] = dfnum_rows.num_rows_with_count"
   ]
  },
  {
   "cell_type": "code",
   "execution_count": null,
   "metadata": {},
   "outputs": [],
   "source": [
    "# visual check\n",
    "groups"
   ]
  },
  {
   "cell_type": "code",
   "execution_count": null,
   "metadata": {},
   "outputs": [],
   "source": [
    "# create a function that does the abocve and returns groups df\n",
    "def get_missing_cols(df):\n",
    "    # add calculation columns to original df\n",
    "    df['null_count'] = df.isna().sum(axis=1)\n",
    "    df['pct_null'] = df.null_count/df.shape[1]\n",
    "    \n",
    "    # create a dataframe with just the 2 new columns\n",
    "    dfcol = pd.DataFrame(null_count, columns=['null_count'])\n",
    "    dfcol['pct_null'] = df.pct_null\n",
    "    \n",
    "    # create a series that has the number of rows in each group\n",
    "    num_rows_ingroup = dfcol.null_count.value_counts()\n",
    "    \n",
    "    # create a dataframe with the count of null_count and pct_null\n",
    "    groups = dfcol.groupby(['null_count', 'pct_null']).count()\n",
    "    \n",
    "    # create a df from the num_rows_ingroup, rename the columns, sort, and reset the index \n",
    "    dfnum_rows = pd.DataFrame(num_rows_ingroup)\n",
    "    dfnum_rows = dfnum_rows.reset_index()\n",
    "    dfnum_rows = dfnum_rows.rename(columns={'index': 'num_null_col', 'null_count': 'num_rows_with_count'})\n",
    "    dfnum_rows = dfnum_rows.sort_values('num_null_col')\n",
    "    dfnum_rows = dfnum_rows.reset_index()\n",
    "    \n",
    "    # reset the index on the groups df so that we can add the num_rows_with_count\n",
    "    groups = groups.reset_index()\n",
    "    \n",
    "    # combine num_rows_with_count from dfnum_rows with groups\n",
    "    groups['rows_with_count'] = dfnum_rows.num_rows_with_count\n",
    "    return groups\n"
   ]
  },
  {
   "cell_type": "code",
   "execution_count": null,
   "metadata": {},
   "outputs": [],
   "source": [
    "zcols = get_missing_cols(df)\n",
    "zcols"
   ]
  },
  {
   "cell_type": "markdown",
   "metadata": {},
   "source": [
    "****\n",
    "**take aways**\n",
    "- most rows have 32-34 columns with missing values\n",
    "****"
   ]
  },
  {
   "cell_type": "markdown",
   "metadata": {},
   "source": [
    "## Prepare\n",
    "\n",
    "1. Remove any properties that are likely to be something other than single unit properties.    \n",
    "(e.g. no duplexes, no land/lot, ...). There are multiple ways to estimate that a property is a single unit, and there is not a single \"right\" answer. But for this exercise, do not purely filter by unitcnt as we did previously. Add some new logic that will reduce the number of properties that are falsely removed. You might want to use # bedrooms, square feet, unit type or the like to then identify those with unitcnt not defined.\n"
   ]
  },
  {
   "cell_type": "markdown",
   "metadata": {},
   "source": [
    "**This is deffinition used in previous project**   \n",
    "\n",
    "Determine deffinition of single property used article by James Chen Updated Sep 11, 2020 What Is a Housing Unit? \"The term housing unit refers to a single unit within a larger structure that can be used by an individual or household to eat, sleep, and live. The unit can be in any type of residence such as a house, apartment, mobile home, or may also be a single unit in a group of rooms. Essentially, a housing unit is deemed to be a separate living quarter where the occupants live and eat separately from other residents of the structure or building. They also have direct access from the building's exterior or through a common hallway.\"\n",
    "https://www.investopedia.com/terms/h/housingunits.asp   \n",
    "\n",
    "**In my opinion deffinition should include condo, townhouse, any unit that can be sold to an individual owner. So my deffinition will include townhouse, condo, ect. but not commercial, business, land only, etc. **   \n",
    "\n",
    "This site has the property use codes for LA county https://www.titleadvantage.com/mdocs/LA%20County%20Use%20Codes%20nm.pdf   \n",
    "looking at the common use codes for Duplex, Triplex, and Quadplex these codes indicate the units are multi-family/income properties or retail/store properties so these will be excluded\n",
    "\n",
    "Identify Properties in the Database: Based on the above definition some categories do not fit brief\n",
    "Propertylandusetypeid | propertylandusedesc\n",
    "No 31 Commercial/Office/Residential Mixed Used (not a residence)\n",
    "No 46 Multi-Story Store (not a residence)\n",
    "No 47 Store/Office (Mixed Use) (not a residence)\n",
    "No 246 Duplex (2 Units, Any Combination)\n",
    "No 247 Triplex (3 Units, Any Combination)\n",
    "No 248 Quadruplex (4 Units, Any Combination)\n",
    "260 Residential General\n",
    "261 Single Family Residential\n",
    "262 Rural Residence\n",
    "263 Mobile Home\n",
    "264 Townhouse\n",
    "No 265 Cluster Home\n",
    "266 Condominium\n",
    "No 267 Cooperative (become shareholder not owner)\n",
    "268 Row House    \n",
    "No 269 Planned Unit Development\n",
    "No 270 Residential Common Area (propterty feature)\n",
    "No 271 Timeshare (become shareholder not owner)\n",
    "273 Bungalow   \n",
    "274 Zero Lot Line\n",
    "275 Manufactured, Modular, Prefabricated Homes\n",
    "276 Patio Home\n",
    "279 Inferred Single Family Residential   \n",
    "No 290 Vacant Land - General (not a residence)\n",
    "No 291 Residential Vacant Land (not a residence)\n",
    "\n",
    "So we will keep only those where propertylandusetypeid = ('260', '261', '262', '263', '264', '266', '268', '273', '274', '275', '276', '279')  \n",
    "\n",
    "**acquire function updated to filter only for these**\n",
    "new shape = (71789, 70)"
   ]
  },
  {
   "cell_type": "markdown",
   "metadata": {},
   "source": [
    "2. Create a function that will drop rows or columns based on the percent of values that are missing: handle_missing_values(df, prop_required_column, prop_required_row).\n",
    "\n",
    "The input:\n",
    "df = a dataframe    \n",
    "prop_required_column = a number between 0 and 1 that represents the proportion, for each column, of rows with non-missing values required to keep the column. i.e. if prop_required_column = .6, then you are requiring a column to have at least 60% of values not-NA (no more than 40% missing).   \n",
    "prop_required_row = a number between 0 and 1 that represents the proportion, for each row, of columns/variables with non-missing values required to keep the row. For example, if prop_required_row = .75, then you are requiring a row to have at least 75% of variables with a non-missing value (no more that 25% missing).   \n",
    "\n",
    "The output: The dataframe with the columns and rows dropped as indicated. Be sure to drop the columns prior to the rows in your function.   \n",
    "\n",
    "hint: Look up the dropna documentation.\n",
    "\n",
    "You will want to compute a threshold from your input values (prop_required) and total number of rows or columns.\n",
    "\n",
    "Make use of inplace, i.e. inplace=True/False."
   ]
  },
  {
   "cell_type": "code",
   "execution_count": null,
   "metadata": {},
   "outputs": [],
   "source": [
    "# this function will be needed to remove colulms\n",
    "def remove_columns(df, cols_to_remove):  \n",
    "    df = df.drop(columns=cols_to_remove)\n",
    "    return df"
   ]
  },
  {
   "cell_type": "code",
   "execution_count": null,
   "metadata": {},
   "outputs": [],
   "source": [
    "def handle_missing_values(df, prop_required_column = .5, prop_required_row = .5):\n",
    "    threshold = int(round(prop_required_column*len(df.index),0))\n",
    "    df.dropna(axis=1, thresh=threshold, inplace=True)\n",
    "    threshold = int(round(prop_required_row*len(df.columns),0))\n",
    "    df.dropna(axis=0, thresh=threshold, inplace=True)\n",
    "    return df"
   ]
  },
  {
   "cell_type": "code",
   "execution_count": null,
   "metadata": {},
   "outputs": [],
   "source": [
    "def data_prep(df, cols_to_remove=[], prop_required_column=.5, prop_required_row=.5):\n",
    "    df = remove_columns(df, cols_to_remove)\n",
    "    df = handle_missing_values(df, prop_required_column, prop_required_row)\n",
    "    return df"
   ]
  },
  {
   "cell_type": "markdown",
   "metadata": {},
   "source": [
    "For the columns to remove we will send known duplicate columns in this first pass   \n",
    "- id\n",
    "- id.1\n",
    "- pid\n",
    "- tdate"
   ]
  },
  {
   "cell_type": "code",
   "execution_count": 3,
   "metadata": {},
   "outputs": [],
   "source": [
    "z1 = prepare.data_prep(\n",
    "    df,\n",
    "    cols_to_remove=['id', 'id.1', 'pid', 'tdate'],\n",
    "    prop_required_column=.6,\n",
    "    prop_required_row=.75\n",
    ")"
   ]
  },
  {
   "cell_type": "code",
   "execution_count": 4,
   "metadata": {},
   "outputs": [
    {
     "data": {
      "text/html": [
       "<div>\n",
       "<style scoped>\n",
       "    .dataframe tbody tr th:only-of-type {\n",
       "        vertical-align: middle;\n",
       "    }\n",
       "\n",
       "    .dataframe tbody tr th {\n",
       "        vertical-align: top;\n",
       "    }\n",
       "\n",
       "    .dataframe thead th {\n",
       "        text-align: right;\n",
       "    }\n",
       "</style>\n",
       "<table border=\"1\" class=\"dataframe\">\n",
       "  <thead>\n",
       "    <tr style=\"text-align: right;\">\n",
       "      <th></th>\n",
       "      <th>parcelid</th>\n",
       "      <th>propertylandusetypeid</th>\n",
       "      <th>heatingorsystemtypeid</th>\n",
       "      <th>bathroomcnt</th>\n",
       "      <th>bedroomcnt</th>\n",
       "      <th>buildingqualitytypeid</th>\n",
       "      <th>calculatedbathnbr</th>\n",
       "      <th>calculatedfinishedsquarefeet</th>\n",
       "      <th>finishedsquarefeet12</th>\n",
       "      <th>fips</th>\n",
       "      <th>...</th>\n",
       "      <th>yearbuilt</th>\n",
       "      <th>structuretaxvaluedollarcnt</th>\n",
       "      <th>taxvaluedollarcnt</th>\n",
       "      <th>assessmentyear</th>\n",
       "      <th>landtaxvaluedollarcnt</th>\n",
       "      <th>taxamount</th>\n",
       "      <th>censustractandblock</th>\n",
       "      <th>logerror</th>\n",
       "      <th>heatingorsystemdesc</th>\n",
       "      <th>propertylandusedesc</th>\n",
       "    </tr>\n",
       "  </thead>\n",
       "  <tbody>\n",
       "    <tr>\n",
       "      <th>0</th>\n",
       "      <td>14297519</td>\n",
       "      <td>261.0</td>\n",
       "      <td>NaN</td>\n",
       "      <td>3.5</td>\n",
       "      <td>4.0</td>\n",
       "      <td>NaN</td>\n",
       "      <td>3.5</td>\n",
       "      <td>3100.0</td>\n",
       "      <td>3100.0</td>\n",
       "      <td>6059.0</td>\n",
       "      <td>...</td>\n",
       "      <td>1998.0</td>\n",
       "      <td>485713.0</td>\n",
       "      <td>1023282.0</td>\n",
       "      <td>2016.0</td>\n",
       "      <td>537569.0</td>\n",
       "      <td>11013.72</td>\n",
       "      <td>6.059063e+13</td>\n",
       "      <td>0.025595</td>\n",
       "      <td>NaN</td>\n",
       "      <td>Single Family Residential</td>\n",
       "    </tr>\n",
       "    <tr>\n",
       "      <th>1</th>\n",
       "      <td>17052889</td>\n",
       "      <td>261.0</td>\n",
       "      <td>NaN</td>\n",
       "      <td>1.0</td>\n",
       "      <td>2.0</td>\n",
       "      <td>NaN</td>\n",
       "      <td>1.0</td>\n",
       "      <td>1465.0</td>\n",
       "      <td>1465.0</td>\n",
       "      <td>6111.0</td>\n",
       "      <td>...</td>\n",
       "      <td>1967.0</td>\n",
       "      <td>88000.0</td>\n",
       "      <td>464000.0</td>\n",
       "      <td>2016.0</td>\n",
       "      <td>376000.0</td>\n",
       "      <td>5672.48</td>\n",
       "      <td>6.111001e+13</td>\n",
       "      <td>0.055619</td>\n",
       "      <td>NaN</td>\n",
       "      <td>Single Family Residential</td>\n",
       "    </tr>\n",
       "    <tr>\n",
       "      <th>2</th>\n",
       "      <td>14186244</td>\n",
       "      <td>261.0</td>\n",
       "      <td>NaN</td>\n",
       "      <td>2.0</td>\n",
       "      <td>3.0</td>\n",
       "      <td>NaN</td>\n",
       "      <td>2.0</td>\n",
       "      <td>1243.0</td>\n",
       "      <td>1243.0</td>\n",
       "      <td>6059.0</td>\n",
       "      <td>...</td>\n",
       "      <td>1962.0</td>\n",
       "      <td>85289.0</td>\n",
       "      <td>564778.0</td>\n",
       "      <td>2016.0</td>\n",
       "      <td>479489.0</td>\n",
       "      <td>6488.30</td>\n",
       "      <td>6.059022e+13</td>\n",
       "      <td>0.005383</td>\n",
       "      <td>NaN</td>\n",
       "      <td>Single Family Residential</td>\n",
       "    </tr>\n",
       "    <tr>\n",
       "      <th>3</th>\n",
       "      <td>12177905</td>\n",
       "      <td>261.0</td>\n",
       "      <td>2.0</td>\n",
       "      <td>3.0</td>\n",
       "      <td>4.0</td>\n",
       "      <td>8.0</td>\n",
       "      <td>3.0</td>\n",
       "      <td>2376.0</td>\n",
       "      <td>2376.0</td>\n",
       "      <td>6037.0</td>\n",
       "      <td>...</td>\n",
       "      <td>1970.0</td>\n",
       "      <td>108918.0</td>\n",
       "      <td>145143.0</td>\n",
       "      <td>2016.0</td>\n",
       "      <td>36225.0</td>\n",
       "      <td>1777.51</td>\n",
       "      <td>6.037300e+13</td>\n",
       "      <td>-0.103410</td>\n",
       "      <td>Central</td>\n",
       "      <td>Single Family Residential</td>\n",
       "    </tr>\n",
       "    <tr>\n",
       "      <th>4</th>\n",
       "      <td>10887214</td>\n",
       "      <td>266.0</td>\n",
       "      <td>2.0</td>\n",
       "      <td>3.0</td>\n",
       "      <td>3.0</td>\n",
       "      <td>8.0</td>\n",
       "      <td>3.0</td>\n",
       "      <td>1312.0</td>\n",
       "      <td>1312.0</td>\n",
       "      <td>6037.0</td>\n",
       "      <td>...</td>\n",
       "      <td>1964.0</td>\n",
       "      <td>73681.0</td>\n",
       "      <td>119407.0</td>\n",
       "      <td>2016.0</td>\n",
       "      <td>45726.0</td>\n",
       "      <td>1533.89</td>\n",
       "      <td>6.037124e+13</td>\n",
       "      <td>0.006940</td>\n",
       "      <td>Central</td>\n",
       "      <td>Condominium</td>\n",
       "    </tr>\n",
       "  </tbody>\n",
       "</table>\n",
       "<p>5 rows × 32 columns</p>\n",
       "</div>"
      ],
      "text/plain": [
       "   parcelid  propertylandusetypeid  heatingorsystemtypeid  bathroomcnt  \\\n",
       "0  14297519                  261.0                    NaN          3.5   \n",
       "1  17052889                  261.0                    NaN          1.0   \n",
       "2  14186244                  261.0                    NaN          2.0   \n",
       "3  12177905                  261.0                    2.0          3.0   \n",
       "4  10887214                  266.0                    2.0          3.0   \n",
       "\n",
       "   bedroomcnt  buildingqualitytypeid  calculatedbathnbr  \\\n",
       "0         4.0                    NaN                3.5   \n",
       "1         2.0                    NaN                1.0   \n",
       "2         3.0                    NaN                2.0   \n",
       "3         4.0                    8.0                3.0   \n",
       "4         3.0                    8.0                3.0   \n",
       "\n",
       "   calculatedfinishedsquarefeet  finishedsquarefeet12    fips  ...  yearbuilt  \\\n",
       "0                        3100.0                3100.0  6059.0  ...     1998.0   \n",
       "1                        1465.0                1465.0  6111.0  ...     1967.0   \n",
       "2                        1243.0                1243.0  6059.0  ...     1962.0   \n",
       "3                        2376.0                2376.0  6037.0  ...     1970.0   \n",
       "4                        1312.0                1312.0  6037.0  ...     1964.0   \n",
       "\n",
       "   structuretaxvaluedollarcnt  taxvaluedollarcnt  assessmentyear  \\\n",
       "0                    485713.0          1023282.0          2016.0   \n",
       "1                     88000.0           464000.0          2016.0   \n",
       "2                     85289.0           564778.0          2016.0   \n",
       "3                    108918.0           145143.0          2016.0   \n",
       "4                     73681.0           119407.0          2016.0   \n",
       "\n",
       "  landtaxvaluedollarcnt taxamount  censustractandblock  logerror  \\\n",
       "0              537569.0  11013.72         6.059063e+13  0.025595   \n",
       "1              376000.0   5672.48         6.111001e+13  0.055619   \n",
       "2              479489.0   6488.30         6.059022e+13  0.005383   \n",
       "3               36225.0   1777.51         6.037300e+13 -0.103410   \n",
       "4               45726.0   1533.89         6.037124e+13  0.006940   \n",
       "\n",
       "   heatingorsystemdesc        propertylandusedesc  \n",
       "0                  NaN  Single Family Residential  \n",
       "1                  NaN  Single Family Residential  \n",
       "2                  NaN  Single Family Residential  \n",
       "3              Central  Single Family Residential  \n",
       "4              Central                Condominium  \n",
       "\n",
       "[5 rows x 32 columns]"
      ]
     },
     "execution_count": 4,
     "metadata": {},
     "output_type": "execute_result"
    }
   ],
   "source": [
    "z1.head()"
   ]
  },
  {
   "cell_type": "markdown",
   "metadata": {},
   "source": [
    "3. Decide how to handle the remaining missing values:\n",
    "\n",
    "Fill with constant value.\n",
    "\n",
    "Impute with mean, median, mode.\n",
    "\n",
    "Drop row/column\n",
    "\n",
    "**wrangle_zillow.py**\n",
    "\n",
    "Functions of the work above needed to acquire and prepare a new sample of data."
   ]
  },
  {
   "cell_type": "code",
   "execution_count": 5,
   "metadata": {},
   "outputs": [
    {
     "data": {
      "text/plain": [
       "(71600, 32)"
      ]
     },
     "execution_count": 5,
     "metadata": {},
     "output_type": "execute_result"
    }
   ],
   "source": [
    "z1.shape"
   ]
  },
  {
   "cell_type": "code",
   "execution_count": null,
   "metadata": {},
   "outputs": [],
   "source": [
    "z1.isna().sum()"
   ]
  },
  {
   "cell_type": "markdown",
   "metadata": {},
   "source": [
    "parcelid                            0    \n",
    "propertylandusetypeid               0    \n",
    "heatingorsystemtypeid           25029  DROP column.   \n",
    "bathroomcnt                         0    \n",
    "bedroomcnt                          0    \n",
    "buildingqualitytypeid           26640  DROP column.   \n",
    "calculatedbathnbr                  86  this is a duplicate of bathroom count, DROP COLUMN    \n",
    "calculatedfinishedsquarefeet       13  nulls are same in this and column below, drop null rows    \n",
    "finishedsquarefeet12              222  DROP column    \n",
    "fips                                0      \n",
    "fullbathcnt                        86  fill with 1, each property has to have 1 full bath     \n",
    "latitude                            0     \n",
    "longitude                           0     \n",
    "lotsizesquarefeet                8049  DROP column          \n",
    "propertycountylandusecode           0     \n",
    "propertyzoningdesc              26252  DROP column     \n",
    "rawcensustractandblock              0     \n",
    "regionidcity                     1320  DROP column     \n",
    "regionidcounty                      0     \n",
    "regionidzip                        37  DROP rows     \n",
    "roomcnt                             0     \n",
    "unitcnt                         26264  fill with 1 for single unit     \n",
    "yearbuilt                          47  impute mean     \n",
    "structuretaxvaluedollarcnt         77  DROP column     \n",
    "taxvaluedollarcnt                   1  drop this 1 row     \n",
    "assessmentyear                      0     \n",
    "landtaxvaluedollarcnt               1  drop this 1 row     \n",
    "taxamount                           5  drop these 5 rows     \n",
    "censustractandblock               208  DROP column (have rawcensustractand block)     \n",
    "logerror                            0     \n",
    "heatingorsystemdesc             25029  DROP column     \n",
    "propertylandusedesc                 0     \n",
    "null_count                          0     \n",
    "pct_null                            0     "
   ]
  },
  {
   "cell_type": "code",
   "execution_count": null,
   "metadata": {},
   "outputs": [],
   "source": [
    "# verfify that nulls are same in both columns\n",
    "sqft = z2[(z2.calculatedfinishedsquarefeet.isna()) & (z2.finishedsquarefeet12.isna())]\n",
    "sqft"
   ]
  },
  {
   "cell_type": "code",
   "execution_count": 6,
   "metadata": {},
   "outputs": [],
   "source": [
    "# drop additional columns\n",
    "cols_to_remove2 = ['heatingorsystemtypeid', 'buildingqualitytypeid', 'finishedsquarefeet12',  \n",
    "                    'lotsizesquarefeet', 'propertyzoningdesc', 'regionidcity', 'structuretaxvaluedollarcnt', \n",
    "                    'censustractandblock', 'heatingorsystemdesc', 'calculatedbathnbr']\n",
    "z1 = prepare.remove_columns(z1, cols_to_remove2)"
   ]
  },
  {
   "cell_type": "code",
   "execution_count": 7,
   "metadata": {},
   "outputs": [
    {
     "data": {
      "text/plain": [
       "(71600, 22)"
      ]
     },
     "execution_count": 7,
     "metadata": {},
     "output_type": "execute_result"
    }
   ],
   "source": [
    "# new shape\n",
    "z1.shape"
   ]
  },
  {
   "cell_type": "code",
   "execution_count": null,
   "metadata": {},
   "outputs": [],
   "source": [
    "z1.isna().sum()"
   ]
  },
  {
   "cell_type": "markdown",
   "metadata": {},
   "source": [
    "parcelid                            0     \n",
    "propertylandusetypeid               0     \n",
    "bathroomcnt                         0     \n",
    "bedroomcnt                          0     \n",
    "calculatedfinishedsquarefeet       13     drop rows\n",
    "fips                                0     \n",
    "fullbathcnt                        86     drop rows - many=bed count=0, these may not be single family\n",
    "latitude                            0     \n",
    "longitude                           0     \n",
    "propertycountylandusecode           0     \n",
    "rawcensustractandblock              0     \n",
    "regionidcounty                      0     \n",
    "regionidzip                        37     drop rows\n",
    "roomcnt                             0     \n",
    "unitcnt                         26264     fill with 1\n",
    "yearbuilt                          47     fill with mean?\n",
    "taxvaluedollarcnt                   1     drop row\n",
    "assessmentyear                      0     \n",
    "landtaxvaluedollarcnt               1     \n",
    "taxamount                           5     drop row\n",
    "logerror                            0     \n",
    "propertylandusedesc                 0     \n",
    "null_count                          0     \n",
    "pct_null                            0     "
   ]
  },
  {
   "cell_type": "code",
   "execution_count": null,
   "metadata": {},
   "outputs": [],
   "source": [
    "fullbath = z1[z1.fullbathcnt.isna()]\n",
    "fullbath"
   ]
  },
  {
   "cell_type": "code",
   "execution_count": 8,
   "metadata": {},
   "outputs": [],
   "source": [
    "z1.unitcnt = z1.unitcnt.fillna(value=1)"
   ]
  },
  {
   "cell_type": "code",
   "execution_count": null,
   "metadata": {},
   "outputs": [],
   "source": [
    "z1.isna().sum()"
   ]
  },
  {
   "cell_type": "code",
   "execution_count": 9,
   "metadata": {},
   "outputs": [
    {
     "data": {
      "text/plain": [
       "(71431, 22)"
      ]
     },
     "execution_count": 9,
     "metadata": {},
     "output_type": "execute_result"
    }
   ],
   "source": [
    "# drop remaining rows with nulls\n",
    "z1 = z1.dropna()\n",
    "z1.shape"
   ]
  },
  {
   "cell_type": "code",
   "execution_count": 10,
   "metadata": {},
   "outputs": [
    {
     "data": {
      "text/plain": [
       "parcelid                        0\n",
       "propertylandusetypeid           0\n",
       "bathroomcnt                     0\n",
       "bedroomcnt                      0\n",
       "calculatedfinishedsquarefeet    0\n",
       "fips                            0\n",
       "fullbathcnt                     0\n",
       "latitude                        0\n",
       "longitude                       0\n",
       "propertycountylandusecode       0\n",
       "rawcensustractandblock          0\n",
       "regionidcounty                  0\n",
       "regionidzip                     0\n",
       "roomcnt                         0\n",
       "unitcnt                         0\n",
       "yearbuilt                       0\n",
       "taxvaluedollarcnt               0\n",
       "assessmentyear                  0\n",
       "landtaxvaluedollarcnt           0\n",
       "taxamount                       0\n",
       "logerror                        0\n",
       "propertylandusedesc             0\n",
       "dtype: int64"
      ]
     },
     "execution_count": 10,
     "metadata": {},
     "output_type": "execute_result"
    }
   ],
   "source": [
    "z1.isna().sum()"
   ]
  },
  {
   "cell_type": "code",
   "execution_count": 11,
   "metadata": {},
   "outputs": [],
   "source": [
    "# test wrangle_zillow_cluster function in wrangle_zillow.py\n",
    "import pandas as pd\n",
    "import acquire\n",
    "import prepare\n",
    "import wrangle_zillow\n",
    "\n",
    "df = wrangle_zillow.wrangle_zillow_cluster()"
   ]
  },
  {
   "cell_type": "code",
   "execution_count": 12,
   "metadata": {},
   "outputs": [
    {
     "data": {
      "text/plain": [
       "(71431, 22)"
      ]
     },
     "execution_count": 12,
     "metadata": {},
     "output_type": "execute_result"
    }
   ],
   "source": [
    "df.shape"
   ]
  },
  {
   "cell_type": "code",
   "execution_count": 13,
   "metadata": {},
   "outputs": [
    {
     "data": {
      "text/plain": [
       "parcelid                        0\n",
       "propertylandusetypeid           0\n",
       "bathroomcnt                     0\n",
       "bedroomcnt                      0\n",
       "calculatedfinishedsquarefeet    0\n",
       "fips                            0\n",
       "fullbathcnt                     0\n",
       "latitude                        0\n",
       "longitude                       0\n",
       "propertycountylandusecode       0\n",
       "rawcensustractandblock          0\n",
       "regionidcounty                  0\n",
       "regionidzip                     0\n",
       "roomcnt                         0\n",
       "unitcnt                         0\n",
       "yearbuilt                       0\n",
       "taxvaluedollarcnt               0\n",
       "assessmentyear                  0\n",
       "landtaxvaluedollarcnt           0\n",
       "taxamount                       0\n",
       "logerror                        0\n",
       "propertylandusedesc             0\n",
       "dtype: int64"
      ]
     },
     "execution_count": 13,
     "metadata": {},
     "output_type": "execute_result"
    }
   ],
   "source": [
    "df.isna().sum()"
   ]
  },
  {
   "cell_type": "markdown",
   "metadata": {},
   "source": []
  },
  {
   "cell_type": "markdown",
   "metadata": {},
   "source": [
    "remaining Mall Customers exercises moved to seperate notebook as requested"
   ]
  },
  {
   "cell_type": "code",
   "execution_count": null,
   "metadata": {},
   "outputs": [],
   "source": []
  }
 ],
 "metadata": {
  "kernelspec": {
   "display_name": "Python 3",
   "language": "python",
   "name": "python3"
  },
  "language_info": {
   "codemirror_mode": {
    "name": "ipython",
    "version": 3
   },
   "file_extension": ".py",
   "mimetype": "text/x-python",
   "name": "python",
   "nbconvert_exporter": "python",
   "pygments_lexer": "ipython3",
   "version": "3.7.6"
  }
 },
 "nbformat": 4,
 "nbformat_minor": 4
}
